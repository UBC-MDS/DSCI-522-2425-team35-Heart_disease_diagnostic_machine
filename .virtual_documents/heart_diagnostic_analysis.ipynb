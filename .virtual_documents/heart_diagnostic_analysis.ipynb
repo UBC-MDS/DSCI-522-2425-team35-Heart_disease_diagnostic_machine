








#import data


#visualize different parameters

















#Import data
























#Title



#summary


#Methods / results


#Discussion


#References
