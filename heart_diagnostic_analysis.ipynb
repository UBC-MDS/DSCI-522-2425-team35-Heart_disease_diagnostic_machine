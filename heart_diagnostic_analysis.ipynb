{
 "cells": [
  {
   "cell_type": "markdown",
   "id": "9b7e39ed-6e1d-49b2-b8d3-69f3d4c6bad0",
   "metadata": {},
   "source": [
    "## IMPORTS"
   ]
  },
  {
   "cell_type": "code",
   "execution_count": null,
   "id": "7ffc8c34-571c-4648-bc2d-5cdd41753f5b",
   "metadata": {},
   "outputs": [],
   "source": []
  },
  {
   "cell_type": "markdown",
   "id": "e72b53e6-b7cb-4a88-a9a4-b755bf7c2ca7",
   "metadata": {},
   "source": [
    "## EDA"
   ]
  },
  {
   "cell_type": "code",
   "execution_count": null,
   "id": "b1c29227-8963-424a-b7f1-0b24dfbbb66a",
   "metadata": {},
   "outputs": [],
   "source": [
    "#import data"
   ]
  },
  {
   "cell_type": "code",
   "execution_count": null,
   "id": "f2358ff0-7777-4539-8ac7-bb3c6955ef5e",
   "metadata": {},
   "outputs": [],
   "source": [
    "#visualize different parameters"
   ]
  },
  {
   "cell_type": "code",
   "execution_count": null,
   "id": "4665a47b-92da-48f3-bde4-3a840e210dd2",
   "metadata": {},
   "outputs": [],
   "source": []
  },
  {
   "cell_type": "code",
   "execution_count": null,
   "id": "0359e069-486a-4d37-b78e-31e8772859d4",
   "metadata": {},
   "outputs": [],
   "source": []
  },
  {
   "cell_type": "code",
   "execution_count": null,
   "id": "159dfd44-f6c2-4556-9b95-e296cd98c91c",
   "metadata": {},
   "outputs": [],
   "source": []
  },
  {
   "cell_type": "code",
   "execution_count": null,
   "id": "896ddcba-43af-45bf-ba0b-da6fe025a5ec",
   "metadata": {},
   "outputs": [],
   "source": []
  },
  {
   "cell_type": "markdown",
   "id": "67d116c2-7e78-41c4-82d2-36a0b5f11225",
   "metadata": {},
   "source": [
    "## ML-analysis (code)"
   ]
  },
  {
   "cell_type": "code",
   "execution_count": null,
   "id": "756b41f5-17b1-40a6-95e3-16ad9b49d667",
   "metadata": {},
   "outputs": [],
   "source": [
    "#Import data"
   ]
  },
  {
   "cell_type": "code",
   "execution_count": null,
   "id": "ed254998-9205-4a8d-a76d-f860b66b1e60",
   "metadata": {},
   "outputs": [],
   "source": []
  },
  {
   "cell_type": "code",
   "execution_count": null,
   "id": "705da184-1eea-44eb-8099-539c6917dc5d",
   "metadata": {},
   "outputs": [],
   "source": []
  },
  {
   "cell_type": "code",
   "execution_count": null,
   "id": "2c049f86-6c01-42b0-b45e-8fbd12a36f7a",
   "metadata": {},
   "outputs": [],
   "source": []
  },
  {
   "cell_type": "code",
   "execution_count": null,
   "id": "6ce1b65b-00f0-4046-a822-a372d52db3bb",
   "metadata": {},
   "outputs": [],
   "source": []
  },
  {
   "cell_type": "code",
   "execution_count": null,
   "id": "166a9281-6ef9-4006-bf82-9aed946646ee",
   "metadata": {},
   "outputs": [],
   "source": []
  },
  {
   "cell_type": "code",
   "execution_count": null,
   "id": "9b06a0a4-6ca2-4135-bb96-dd57b316d99a",
   "metadata": {},
   "outputs": [],
   "source": []
  },
  {
   "cell_type": "markdown",
   "id": "52b463f6-d3b2-41b9-916c-e178bfc0e6e5",
   "metadata": {},
   "source": [
    "## Written analysis"
   ]
  },
  {
   "cell_type": "code",
   "execution_count": null,
   "id": "841cdb9c-a75a-4cab-9942-b1e280399c42",
   "metadata": {},
   "outputs": [],
   "source": [
    "#Title\n"
   ]
  },
  {
   "cell_type": "code",
   "execution_count": null,
   "id": "0072dadf-2b71-4e7c-ae57-407ca5b6437a",
   "metadata": {},
   "outputs": [],
   "source": [
    "#summary"
   ]
  },
  {
   "cell_type": "code",
   "execution_count": null,
   "id": "468b09b3-84b4-484b-af29-8b20fea284bd",
   "metadata": {},
   "outputs": [],
   "source": [
    "#Methods / results"
   ]
  },
  {
   "cell_type": "code",
   "execution_count": null,
   "id": "0e5418af-e0c3-42fb-b777-97f2a1e2a455",
   "metadata": {},
   "outputs": [],
   "source": [
    "#Discussion"
   ]
  },
  {
   "cell_type": "code",
   "execution_count": null,
   "id": "56814d33-e98f-48e8-b77b-63b23c5f1556",
   "metadata": {},
   "outputs": [],
   "source": [
    "#References"
   ]
  }
 ],
 "metadata": {
  "kernelspec": {
   "display_name": "Python 3 (ipykernel)",
   "language": "python",
   "name": "python3"
  },
  "language_info": {
   "codemirror_mode": {
    "name": "ipython",
    "version": 3
   },
   "file_extension": ".py",
   "mimetype": "text/x-python",
   "name": "python",
   "nbconvert_exporter": "python",
   "pygments_lexer": "ipython3",
   "version": "3.12.3"
  }
 },
 "nbformat": 4,
 "nbformat_minor": 5
}
